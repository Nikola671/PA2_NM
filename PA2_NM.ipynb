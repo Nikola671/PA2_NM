{
 "cells": [
  {
   "cell_type": "markdown",
   "id": "443f9901-9436-4e74-9e50-5f7de5dcee59",
   "metadata": {},
   "source": [
    "# Programming Assignment 2\n",
    "---\n",
    "**Author:** Nik Mrdak  \n",
    "**Version:** 1.0  \n",
    "**Semester:** Spring 2024 \n",
    "\n",
    "This *notebook* contains my solution(s) to **Programming Assignment 2**"
   ]
  },
  {
   "cell_type": "markdown",
   "id": "ce3bdf57-f1a3-4368-be81-b5af0db6060b",
   "metadata": {},
   "source": [
    "### Problem 1 - Printing Numbers"
   ]
  },
  {
   "cell_type": "code",
   "execution_count": 2,
   "id": "090546df-d091-4d82-b73b-5034cb7599df",
   "metadata": {
    "tags": []
   },
   "outputs": [
    {
     "name": "stdout",
     "output_type": "stream",
     "text": [
      "0\n",
      "1\n",
      "2\n",
      "3\n",
      "4\n",
      "5\n",
      "6 *\n",
      "7\n",
      "8\n",
      "9 *\n",
      "10\n",
      "11\n",
      "12 *\n",
      "13\n",
      "14\n",
      "15 *\n",
      "16\n",
      "17\n",
      "18 *\n",
      "19\n",
      "20\n",
      "21 *\n",
      "22\n",
      "23\n",
      "24 *\n",
      "25\n",
      "26\n",
      "27 *\n",
      "28\n",
      "29\n",
      "30 *\n",
      "31\n",
      "32\n",
      "33 *\n",
      "34\n",
      "35\n",
      "36 *\n",
      "37\n",
      "38\n",
      "39 *\n",
      "40\n",
      "41\n",
      "42 *\n",
      "43\n",
      "44\n",
      "45 *\n",
      "46\n",
      "47\n",
      "48 *\n",
      "49\n",
      "50\n",
      "51 *\n",
      "52\n",
      "53\n",
      "54 *\n",
      "55\n",
      "56\n",
      "57 *\n",
      "58\n",
      "59\n",
      "60 *\n",
      "61\n",
      "62\n",
      "63 *\n",
      "64\n",
      "65\n",
      "66 *\n",
      "67\n",
      "68\n",
      "69 *\n",
      "70\n",
      "71\n",
      "72 *\n",
      "73\n",
      "74\n",
      "75 *\n",
      "76\n",
      "77\n",
      "78 *\n",
      "79\n",
      "80\n",
      "81 *\n",
      "82\n",
      "83\n",
      "84 *\n",
      "85\n",
      "86\n",
      "87 *\n",
      "88\n",
      "89\n",
      "90 *\n",
      "91\n",
      "92\n",
      "93 *\n",
      "94\n",
      "95\n",
      "96 *\n",
      "97\n",
      "98\n",
      "99 *\n",
      "100\n"
     ]
    }
   ],
   "source": [
    "for r in range(0,101,1):\n",
    "    if r - 3 <=0:\n",
    "        print(r)\n",
    "    elif r % 3 == 0:\n",
    "        print(r,\"*\")\n",
    "    else:\n",
    "        print(r)"
   ]
  },
  {
   "cell_type": "markdown",
   "id": "a11a5f6d-3884-4fed-a9cd-a75022895698",
   "metadata": {},
   "source": [
    "### Problem 2 - Age Status"
   ]
  },
  {
   "cell_type": "code",
   "execution_count": 13,
   "id": "b7e860a9-77e1-4623-8b3f-69d549342250",
   "metadata": {
    "tags": []
   },
   "outputs": [
    {
     "name": "stdin",
     "output_type": "stream",
     "text": [
      "What is the age of the subject? 0 to quit. 0\n"
     ]
    },
    {
     "name": "stdout",
     "output_type": "stream",
     "text": [
      "Done!\n"
     ]
    }
   ],
   "source": [
    "age = int(input('What is the age of the subject? 0 to quit.'))\n",
    "\n",
    "while age != 0:\n",
    "    if 0<age<18:\n",
    "        print(f'Minor')\n",
    "    elif 17<age<65:\n",
    "        print(f'Adult')\n",
    "    elif age < 0:\n",
    "        print(f'Seriously?')\n",
    "    else:\n",
    "        print(f'Senior Citizen')\n",
    "\n",
    "    age = int(input('What is the age of the subject? 0 to quit.'))          \n",
    "print(f'Done!')    "
   ]
  },
  {
   "cell_type": "markdown",
   "id": "5bb2c955-0ae2-4789-859c-b9d06e64677f",
   "metadata": {},
   "source": [
    "### Problem 3 - Age Satus v2"
   ]
  },
  {
   "cell_type": "code",
   "execution_count": 40,
   "id": "9d08ecb2-b354-4da9-97e8-6615b920abe4",
   "metadata": {
    "tags": []
   },
   "outputs": [
    {
     "ename": "TypeError",
     "evalue": "'list' object is not callable",
     "output_type": "error",
     "traceback": [
      "\u001b[1;31m---------------------------------------------------------------------------\u001b[0m",
      "\u001b[1;31mTypeError\u001b[0m                                 Traceback (most recent call last)",
      "Cell \u001b[1;32mIn[40], line 1\u001b[0m\n\u001b[1;32m----> 1\u001b[0m age\u001b[38;5;241m=\u001b[39m\u001b[38;5;28mlist\u001b[39m()\n\u001b[0;32m      2\u001b[0m age\u001b[38;5;241m.\u001b[39mappend(\u001b[38;5;241m5\u001b[39m,\u001b[38;5;241m17\u001b[39m,\u001b[38;5;241m26\u001b[39m,\u001b[38;5;241m49\u001b[39m,\u001b[38;5;241m65\u001b[39m,\u001b[38;5;241m83\u001b[39m,\u001b[38;5;241m0\u001b[39m)\n\u001b[0;32m      3\u001b[0m \u001b[38;5;28;01mfor\u001b[39;00m a \u001b[38;5;129;01min\u001b[39;00m age:\n",
      "\u001b[1;31mTypeError\u001b[0m: 'list' object is not callable"
     ]
    }
   ],
   "source": [
    "age=[9,17,29,45,66,81,0]\n",
    "    \n",
    "for a in age:\n",
    "    if a ==0:\n",
    "        print(f'Done!')\n",
    "    if 0<age<18:\n",
    "        print(f'Minor')\n",
    "    elif 17<age<65:\n",
    "        print(f'Adult')\n",
    "    elif age < 0:\n",
    "        print(f'Seriously?')\n",
    "    else:\n",
    "        print(f'Senior Citizen')\n",
    "#I was unable to solve this problem."
   ]
  },
  {
   "cell_type": "markdown",
   "id": "04447817-4f15-4679-a51e-e51ec2b82e00",
   "metadata": {},
   "source": [
    "### Problem 4 - Calculating Pi"
   ]
  },
  {
   "cell_type": "code",
   "execution_count": 11,
   "id": "4f631e4a-74c1-452b-9940-9f830a316865",
   "metadata": {
    "tags": []
   },
   "outputs": [],
   "source": [
    "import math"
   ]
  },
  {
   "cell_type": "code",
   "execution_count": null,
   "id": "c7650d9b-211b-4c78-b405-b5848d879ef6",
   "metadata": {},
   "outputs": [],
   "source": [
    "terms=[100,1000,10000,100000,1000000]\n",
    "sum = 0\n",
    "denominator = 1\n",
    "n = .5    \n",
    "while terms==terms:\n",
    "    t = sum * n\n",
    "    for t in terms:\n",
    "        if t % 2==0:\n",
    "            sum-=4/denominator\n",
    "        elif t %2!=0:\n",
    "            sum+=4/denominator\n",
    "    denominator+=2\n",
    "\n",
    "    print(f'pi = {sum} using {t} terms.')\n",
    "\n",
    "#I was unable to complete this problem as well; my current progress results in an infinite loop."
   ]
  },
  {
   "cell_type": "code",
   "execution_count": null,
   "id": "f3729a38-a383-4e0a-9306-abb469c84e61",
   "metadata": {},
   "outputs": [],
   "source": []
  }
 ],
 "metadata": {
  "kernelspec": {
   "display_name": "Python 3 (ipykernel)",
   "language": "python",
   "name": "python3"
  },
  "language_info": {
   "codemirror_mode": {
    "name": "ipython",
    "version": 3
   },
   "file_extension": ".py",
   "mimetype": "text/x-python",
   "name": "python",
   "nbconvert_exporter": "python",
   "pygments_lexer": "ipython3",
   "version": "3.11.5"
  }
 },
 "nbformat": 4,
 "nbformat_minor": 5
}
